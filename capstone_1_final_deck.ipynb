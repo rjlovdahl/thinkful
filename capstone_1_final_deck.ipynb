{
 "cells": [
  {
   "cell_type": "code",
   "execution_count": 5,
   "metadata": {
    "colab": {
     "base_uri": "https://localhost:8080/",
     "height": 34
    },
    "colab_type": "code",
    "id": "nKkxupwlSNu8",
    "outputId": "dc443a87-632f-4f51-e70a-35ee2495878e",
    "slideshow": {
     "slide_type": "skip"
    }
   },
   "outputs": [
    {
     "data": {
      "text/html": [
       "<script>\n",
       "code_show=true; \n",
       "function code_toggle() {\n",
       " if (code_show){\n",
       " $('div.input').hide();\n",
       " } else {\n",
       " $('div.input').show();\n",
       " }\n",
       " code_show = !code_show\n",
       "} \n",
       "$( document ).ready(code_toggle);\n",
       "</script>\n",
       "The raw code for this IPython notebook is by default hidden for easier reading.\n",
       "To toggle on/off the raw code, click <a href=\"javascript:code_toggle()\">here</a>."
      ],
      "text/plain": [
       "<IPython.core.display.HTML object>"
      ]
     },
     "execution_count": 5,
     "metadata": {},
     "output_type": "execute_result"
    }
   ],
   "source": [
    "# Source:\n",
    "# http://blog.nextgenetics.net/?e=102\n",
    "from IPython.display import HTML\n",
    "\n",
    "HTML('''<script>\n",
    "code_show=true; \n",
    "function code_toggle() {\n",
    " if (code_show){\n",
    " $('div.input').hide();\n",
    " } else {\n",
    " $('div.input').show();\n",
    " }\n",
    " code_show = !code_show\n",
    "} \n",
    "$( document ).ready(code_toggle);\n",
    "</script>\n",
    "The raw code for this IPython notebook is by default hidden for easier reading.\n",
    "To toggle on/off the raw code, click <a href=\"javascript:code_toggle()\">here</a>.''')"
   ]
  },
  {
   "cell_type": "markdown",
   "metadata": {
    "slideshow": {
     "slide_type": "slide"
    }
   },
   "source": [
    "# Relationship of War Outlook & Political Views\n",
    "## Ryan Lovdahl\n",
    "## December 7, 2019"
   ]
  },
  {
   "cell_type": "markdown",
   "metadata": {
    "colab_type": "text",
    "id": "AeJk9QiWxpnJ",
    "slideshow": {
     "slide_type": "slide"
    }
   },
   "source": [
    "- Will the U.S. will fight in a world war sometime in the next 10 years?"
   ]
  },
  {
   "cell_type": "markdown",
   "metadata": {
    "colab_type": "text",
    "id": "h-1gXafHxsEM",
    "slideshow": {
     "slide_type": "fragment"
    }
   },
   "source": [
    "- How much can we learn about a person if we know his or her answer?"
   ]
  },
  {
   "cell_type": "markdown",
   "metadata": {
    "slideshow": {
     "slide_type": "fragment"
    }
   },
   "source": [
    "- What can we learn about the U.S. with 1,500 Americans' answers?"
   ]
  },
  {
   "cell_type": "code",
   "execution_count": 4,
   "metadata": {
    "slideshow": {
     "slide_type": "fragment"
    }
   },
   "outputs": [
    {
     "name": "stdout",
     "output_type": "stream",
     "text": [
      "<class 'pandas.core.frame.DataFrame'>\n",
      "RangeIndex: 4820 entries, 0 to 4819\n",
      "Columns: 419 entries, YEAR to USWARY\n",
      "dtypes: float64(2), int64(417)\n",
      "memory usage: 15.4 MB\n",
      "          ID\n",
      "       count\n",
      "USWARY      \n",
      "0       3258\n",
      "1        786\n",
      "2        695\n",
      "8         80\n",
      "9          1\n"
     ]
    }
   ],
   "source": [
    "# Set up environment\n",
    "\n",
    "import math\n",
    "import pandas as pd\n",
    "import numpy as np\n",
    "from scipy import stats\n",
    "import matplotlib.pyplot as plt\n",
    "\n",
    "social_data = pd.read_csv(\"https://raw.githubusercontent.com/rjlovdahl/social_data/master/social_survey_final.csv\")\n",
    "\n",
    "# Count records by country\n",
    "\n",
    "print(social_data[['ID']].groupby(social_data['USWARY']).agg(['count']))"
   ]
  },
  {
   "cell_type": "markdown",
   "metadata": {
    "slideshow": {
     "slide_type": "slide"
    }
   },
   "source": [
    "## War responses compared to political views\n",
    "\n",
    "- Let's look at the political viewpoints of two groups\n",
    "- Data collected by the General Social Survey"
   ]
  },
  {
   "cell_type": "code",
   "execution_count": 6,
   "metadata": {
    "colab": {
     "base_uri": "https://localhost:8080/",
     "height": 299
    },
    "colab_type": "code",
    "id": "9p4Axu4F2ngM",
    "outputId": "12112735-16d6-4450-dc52-fa095b962d0b"
   },
   "outputs": [
    {
     "data": {
      "image/png": "[encoded data removed]",
      "text/plain": [
       "<Figure size 432x288 with 1 Axes>"
      ]
     },
     "metadata": {
      "needs_background": "light"
     },
     "output_type": "display_data"
    }
   ],
   "source": [
    "#split up the data set into the two groups we're comparing\n",
    "\n",
    "ww_yes = social_data[(social_data['USWARY'] == 1)]\n",
    "ww_no = social_data[(social_data['USWARY'] == 2)]\n",
    "\n",
    "#plot the histogram charting political views\n",
    "plt.hist(ww_yes['POLVIEWS'], alpha = .5)\n",
    "plt.hist(ww_no['POLVIEWS'], alpha = .5)\n",
    "plt.show()"
   ]
  },
  {
   "cell_type": "markdown",
   "metadata": {
    "slideshow": {
     "slide_type": "fragment"
    }
   },
   "source": [
    "- Blue expects world war; brown doesn't\n",
    "- 1 = extremely liberal\n",
    "- 7 = extremely conservative"
   ]
  },
  {
   "cell_type": "markdown",
   "metadata": {
    "slideshow": {
     "slide_type": "slide"
    }
   },
   "source": [
    "## Is this a statistically significant difference?"
   ]
  },
  {
   "cell_type": "markdown",
   "metadata": {
    "slideshow": {
     "slide_type": "fragment"
    }
   },
   "source": [
    "- Yes"
   ]
  },
  {
   "cell_type": "markdown",
   "metadata": {
    "slideshow": {
     "slide_type": "fragment"
    }
   },
   "source": [
    "### With 95% confidence, the group expecting war is more conservative than the group that doesn't expect war.\n",
    "- Difference is between 0.49 and 0.17 points \n",
    "- That's on a conservativeness spectrum of 1-7 (4 = moderate)\n",
    "- Average political viewpoint for those who expect war is 4.38"
   ]
  },
  {
   "cell_type": "code",
   "execution_count": 0,
   "metadata": {
    "colab": {
     "base_uri": "https://localhost:8080/",
     "height": 51
    },
    "colab_type": "code",
    "id": "Gt1f4lWJ3bNw",
    "outputId": "5e7de568-ebab-4202-944d-30cad8650155"
   },
   "outputs": [
    {
     "name": "stdout",
     "output_type": "stream",
     "text": [
      "The difference in means at the 95% confidence interval (two-tail) is between -0.494900430205754 and -0.16586073185696207.\n",
      "4.377862595419847\n"
     ]
    }
   ],
   "source": [
    "#print the confidence interval\n",
    "def get_95_ci(array_1, array_2):\n",
    "    sample_1_n = array_1.shape[0]\n",
    "    sample_2_n = array_2.shape[0]\n",
    "    sample_1_mean = array_1.mean()\n",
    "    sample_2_mean = array_2.mean()\n",
    "    sample_1_var = array_1.var()\n",
    "    sample_2_var = array_2.var()\n",
    "    mean_difference = sample_2_mean - sample_1_mean\n",
    "    std_err_difference = math.sqrt((sample_1_var/sample_1_n)+(sample_2_var/sample_2_n))\n",
    "    margin_of_error = 1.96 * std_err_difference\n",
    "    ci_lower = mean_difference - margin_of_error\n",
    "    ci_upper = mean_difference + margin_of_error\n",
    "    return(\"The difference in means at the 95% confidence interval (two-tail) is between \"+str(ci_lower)+\" and \"+str(ci_upper)+\".\")\n",
    "\n",
    "print(get_95_ci(ww_yes['POLVIEWS'], ww_no['POLVIEWS']))\n",
    "\n",
    "#what is the average political viewpoint for folks who foresee a world war?\n",
    "print(ww_yes[\"POLVIEWS\"].mean())"
   ]
  },
  {
   "cell_type": "markdown",
   "metadata": {
    "slideshow": {
     "slide_type": "slide"
    }
   },
   "source": [
    "### Full scale of responses\n",
    "- 1: Extremely liberal\n",
    "- 2: Liberal\n",
    "- 3: Slightly liberal\n",
    "- 4: Moderate\n",
    "- 5: Slightly conservative\n",
    "- 6: Conservative\n",
    "- 7: Extremely conservative"
   ]
  },
  {
   "cell_type": "markdown",
   "metadata": {
    "slideshow": {
     "slide_type": "slide"
    }
   },
   "source": [
    "### Implications\n",
    "- Political messaging\n",
    "- Military strategy\n",
    "- Fluctuations in real risk of world war"
   ]
  },
  {
   "cell_type": "markdown",
   "metadata": {
    "slideshow": {
     "slide_type": "fragment"
    }
   },
   "source": [
    "### Open questions to explore\n",
    "- Does war risk inform political views or the other way around?\n",
    "- What other beliefs are correlated with perceived world war risk?\n",
    "- Data available on salary, childhood residence state and much more\n"
   ]
  }
 ],
 "metadata": {
  "celltoolbar": "Slideshow",
  "colab": {
   "name": "capstone_1_deck.ipynb",
   "provenance": []
  },
  "kernelspec": {
   "display_name": "Python 3",
   "language": "python",
   "name": "python3"
  },
  "language_info": {
   "codemirror_mode": {
    "name": "ipython",
    "version": 3
   },
   "file_extension": ".py",
   "mimetype": "text/x-python",
   "name": "python",
   "nbconvert_exporter": "python",
   "pygments_lexer": "ipython3",
   "version": "3.7.4"
  }
 },
 "nbformat": 4,
 "nbformat_minor": 1
}
